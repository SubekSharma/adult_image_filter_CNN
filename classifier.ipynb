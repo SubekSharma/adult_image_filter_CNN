{
 "cells": [
  {
   "cell_type": "code",
   "execution_count": 19,
   "id": "d21fd5ab",
   "metadata": {},
   "outputs": [],
   "source": [
    "import tensorflow as tf\n",
    "from tensorflow import keras\n",
    "from keras.preprocessing.image import ImageDataGenerator\n"
   ]
  },
  {
   "cell_type": "code",
   "execution_count": 20,
   "id": "8b27b0c7",
   "metadata": {},
   "outputs": [],
   "source": [
    "train_dir = \"train_data\" # '../train_data'\n",
    "test_dir = \"test_data\" # '../test_data'\n",
    "val_dir = \"val_data\" #'../val_data/'\n"
   ]
  },
  {
   "cell_type": "code",
   "execution_count": 21,
   "id": "d5c5c95b",
   "metadata": {},
   "outputs": [],
   "source": [
    "train_datagen = ImageDataGenerator(rescale=1./255)\n",
    "test_datagen = ImageDataGenerator(rescale=1./255)\n",
    "val_datagen = ImageDataGenerator(rescale=1./255)\n"
   ]
  },
  {
   "cell_type": "code",
   "execution_count": 22,
   "id": "85743e49",
   "metadata": {},
   "outputs": [
    {
     "name": "stdout",
     "output_type": "stream",
     "text": [
      "Found 2240 images belonging to 2 classes.\n",
      "Found 280 images belonging to 2 classes.\n",
      "Found 280 images belonging to 2 classes.\n"
     ]
    }
   ],
   "source": [
    "train_generator = train_datagen.flow_from_directory(\n",
    "    train_dir,\n",
    "    target_size=(240, 320),\n",
    "    batch_size=32, \n",
    "    class_mode='binary'\n",
    ")\n",
    "test_generator = test_datagen.flow_from_directory(\n",
    "    test_dir,\n",
    "    target_size=(240, 320),\n",
    "    batch_size=64, \n",
    "    class_mode='binary'\n",
    ")\n",
    "val_generator = val_datagen.flow_from_directory(\n",
    "    val_dir,\n",
    "    target_size=(240, 320),\n",
    "    batch_size=32, \n",
    "    class_mode='binary'\n",
    ")"
   ]
  },
  {
   "cell_type": "code",
   "execution_count": 23,
   "id": "35e68b6e",
   "metadata": {},
   "outputs": [
    {
     "data": {
      "text/plain": [
       "{'nsfw': 0, 'sfw': 1}"
      ]
     },
     "execution_count": 23,
     "metadata": {},
     "output_type": "execute_result"
    }
   ],
   "source": [
    "test_generator.class_indices"
   ]
  },
  {
   "cell_type": "code",
   "execution_count": 24,
   "id": "38e1fc93",
   "metadata": {},
   "outputs": [],
   "source": [
    "from tensorflow.keras.models import Sequential\n",
    "from tensorflow.keras.layers import Conv2D, MaxPooling2D, Flatten, Dense, Dropout\n",
    "\n",
    "# Define the model architecture\n",
    "model = Sequential([\n",
    "    Conv2D(32, (3, 3), activation='relu', input_shape=(240, 320, 3)),\n",
    "    MaxPooling2D((2, 2)),\n",
    "    Conv2D(32, (3, 3), activation='relu', input_shape=(240, 320, 3)),\n",
    "    MaxPooling2D((2, 2)),\n",
    "    Conv2D(32, (3, 3), activation='relu', input_shape=(240, 320, 3)),\n",
    "    MaxPooling2D((2, 2)),\n",
    "    Conv2D(32, (3, 3), activation='relu', input_shape=(240, 320, 3)),\n",
    "    MaxPooling2D((2, 2)),\n",
    "    Conv2D(32, (3, 3), activation='relu', input_shape=(240, 320, 3)),\n",
    "    MaxPooling2D((2, 2)),\n",
    "    Flatten(),\n",
    "    Dense(256, activation='relu'),\n",
    "    Dropout(0.5),\n",
    "    Dense(1, activation='sigmoid')\n",
    "])\n",
    "\n",
    "\n"
   ]
  },
  {
   "cell_type": "code",
   "execution_count": 25,
   "id": "408693d3",
   "metadata": {},
   "outputs": [],
   "source": [
    "# Compile the model\n",
    "model.compile(optimizer='adam', loss='binary_crossentropy', metrics=['accuracy'])\n"
   ]
  },
  {
   "cell_type": "code",
   "execution_count": 26,
   "id": "341cf83e",
   "metadata": {},
   "outputs": [
    {
     "name": "stdout",
     "output_type": "stream",
     "text": [
      "Epoch 1/7\n",
      "70/70 [==============================] - 95s 1s/step - loss: 0.5283 - accuracy: 0.7237 - val_loss: 0.3917 - val_accuracy: 0.8286\n",
      "Epoch 2/7\n",
      "70/70 [==============================] - 94s 1s/step - loss: 0.3346 - accuracy: 0.8616 - val_loss: 0.2499 - val_accuracy: 0.8929\n",
      "Epoch 3/7\n",
      "70/70 [==============================] - 94s 1s/step - loss: 0.2950 - accuracy: 0.8795 - val_loss: 0.3850 - val_accuracy: 0.8714\n",
      "Epoch 4/7\n",
      "70/70 [==============================] - 93s 1s/step - loss: 0.2630 - accuracy: 0.9018 - val_loss: 0.2023 - val_accuracy: 0.9107\n",
      "Epoch 5/7\n",
      "70/70 [==============================] - 95s 1s/step - loss: 0.2176 - accuracy: 0.9196 - val_loss: 0.1520 - val_accuracy: 0.9357\n",
      "Epoch 6/7\n",
      "70/70 [==============================] - 94s 1s/step - loss: 0.2449 - accuracy: 0.9062 - val_loss: 0.1706 - val_accuracy: 0.9286\n",
      "Epoch 7/7\n",
      "70/70 [==============================] - 94s 1s/step - loss: 0.1901 - accuracy: 0.9223 - val_loss: 0.1612 - val_accuracy: 0.9214\n"
     ]
    }
   ],
   "source": [
    "# Train the model\n",
    "history = model.fit(train_generator,validation_data=val_generator, epochs=7, verbose=1)\n"
   ]
  },
  {
   "cell_type": "code",
   "execution_count": 27,
   "id": "acb061c8",
   "metadata": {},
   "outputs": [
    {
     "name": "stdout",
     "output_type": "stream",
     "text": [
      "5/5 [==============================] - 3s 505ms/step - loss: 0.2465 - accuracy: 0.9143\n"
     ]
    },
    {
     "data": {
      "text/plain": [
       "[0.24646113812923431, 0.9142857193946838]"
      ]
     },
     "execution_count": 27,
     "metadata": {},
     "output_type": "execute_result"
    }
   ],
   "source": [
    "model.evaluate(test_generator, verbose=1)"
   ]
  },
  {
   "cell_type": "code",
   "execution_count": 28,
   "id": "1fbe59dd",
   "metadata": {},
   "outputs": [],
   "source": [
    "# Save the model in SavedModel format\n",
    "model.save('model.h5')"
   ]
  },
  {
   "cell_type": "code",
   "execution_count": 30,
   "id": "517a512d",
   "metadata": {},
   "outputs": [
    {
     "ename": "OSError",
     "evalue": "[Errno 22] Invalid argument: 'https://cdncontent.xxxwaffle.com/gthumb/3/335/3335228_98937b6_600x_.jpg'",
     "output_type": "error",
     "traceback": [
      "\u001b[1;31m---------------------------------------------------------------------------\u001b[0m",
      "\u001b[1;31mOSError\u001b[0m                                   Traceback (most recent call last)",
      "Cell \u001b[1;32mIn[30], line 4\u001b[0m\n\u001b[0;32m      2\u001b[0m \u001b[38;5;28;01mfrom\u001b[39;00m \u001b[38;5;21;01mPIL\u001b[39;00m \u001b[38;5;28;01mimport\u001b[39;00m Image\n\u001b[0;32m      3\u001b[0m \u001b[38;5;66;03m# Load the image and resize it to 240x320\u001b[39;00m\n\u001b[1;32m----> 4\u001b[0m image \u001b[38;5;241m=\u001b[39m \u001b[43mImage\u001b[49m\u001b[38;5;241;43m.\u001b[39;49m\u001b[43mopen\u001b[49m\u001b[43m(\u001b[49m\u001b[38;5;124;43m\"\u001b[39;49m\u001b[38;5;124;43mhttps://cdncontent.xxxwaffle.com/gthumb/3/335/3335228_98937b6_600x_.jpg\u001b[39;49m\u001b[38;5;124;43m\"\u001b[39;49m\u001b[43m)\u001b[49m\n\u001b[0;32m      5\u001b[0m image \u001b[38;5;241m=\u001b[39m image\u001b[38;5;241m.\u001b[39mresize((\u001b[38;5;241m320\u001b[39m, \u001b[38;5;241m240\u001b[39m))\n\u001b[0;32m      6\u001b[0m \u001b[38;5;66;03m# Normalize the pixel values by dividing by 255\u001b[39;00m\n",
      "File \u001b[1;32m~\\AppData\\Local\\Programs\\Python\\Python311\\Lib\\site-packages\\PIL\\Image.py:3227\u001b[0m, in \u001b[0;36mopen\u001b[1;34m(fp, mode, formats)\u001b[0m\n\u001b[0;32m   3224\u001b[0m     filename \u001b[38;5;241m=\u001b[39m fp\n\u001b[0;32m   3226\u001b[0m \u001b[38;5;28;01mif\u001b[39;00m filename:\n\u001b[1;32m-> 3227\u001b[0m     fp \u001b[38;5;241m=\u001b[39m builtins\u001b[38;5;241m.\u001b[39mopen(filename, \u001b[38;5;124m\"\u001b[39m\u001b[38;5;124mrb\u001b[39m\u001b[38;5;124m\"\u001b[39m)\n\u001b[0;32m   3228\u001b[0m     exclusive_fp \u001b[38;5;241m=\u001b[39m \u001b[38;5;28;01mTrue\u001b[39;00m\n\u001b[0;32m   3230\u001b[0m \u001b[38;5;28;01mtry\u001b[39;00m:\n",
      "\u001b[1;31mOSError\u001b[0m: [Errno 22] Invalid argument: 'https://cdncontent.xxxwaffle.com/gthumb/3/335/3335228_98937b6_600x_.jpg'"
     ]
    }
   ],
   "source": [
    "import numpy as np\n",
    "from PIL import Image\n",
    "# Load the image and resize it to 240x320\n",
    "image = Image.open(\"https://cdncontent.xxxwaffle.com/gthumb/3/335/3335228_98937b6_600x_.jpg\")\n",
    "image = image.resize((320, 240))\n",
    "# Normalize the pixel values by dividing by 255\n",
    "image_array = np.array(image) / 255.0\n",
    "# Make a prediction\n",
    "prediction = model.predict(np.expand_dims(image_array, axis=0))\n",
    "\n",
    "# Print the predicted class\n",
    "print(np.argmax(prediction))\n",
    "print(prediction)\n",
    "\n"
   ]
  },
  {
   "cell_type": "code",
   "execution_count": null,
   "id": "e621c78d",
   "metadata": {},
   "outputs": [],
   "source": []
  },
  {
   "cell_type": "code",
   "execution_count": null,
   "id": "5884be4a",
   "metadata": {},
   "outputs": [],
   "source": []
  }
 ],
 "metadata": {
  "kernelspec": {
   "display_name": "Python 3 (ipykernel)",
   "language": "python",
   "name": "python3"
  },
  "language_info": {
   "codemirror_mode": {
    "name": "ipython",
    "version": 3
   },
   "file_extension": ".py",
   "mimetype": "text/x-python",
   "name": "python",
   "nbconvert_exporter": "python",
   "pygments_lexer": "ipython3",
   "version": "3.11.3"
  }
 },
 "nbformat": 4,
 "nbformat_minor": 5
}
