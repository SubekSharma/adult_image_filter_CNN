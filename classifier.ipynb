{
 "cells": [
  {
   "cell_type": "code",
   "execution_count": 7,
   "id": "d21fd5ab",
   "metadata": {},
   "outputs": [],
   "source": [
    "import tensorflow as tf\n",
    "from tensorflow import keras\n",
    "from keras.preprocessing.image import ImageDataGenerator\n"
   ]
  },
  {
   "cell_type": "code",
   "execution_count": 11,
   "id": "8b27b0c7",
   "metadata": {},
   "outputs": [],
   "source": [
    "train_dir = \"C:\\\\Users\\\\subek\\\\Desktop\\\\nsfw model\\\\train_data\" # '../train_data'\n",
    "test_dir = \"C:\\\\Users\\\\subek\\\\Desktop\\\\nsfw model\\\\test_data\" # '../test_data'\n",
    "val_dir = \"C:\\\\Users\\\\subek\\\\Desktop\\\\nsfw model\\\\val_data\" #'../val_data/'\n"
   ]
  },
  {
   "cell_type": "code",
   "execution_count": 12,
   "id": "d5c5c95b",
   "metadata": {},
   "outputs": [],
   "source": [
    "train_datagen = ImageDataGenerator(rescale=1./255)\n",
    "test_datagen = ImageDataGenerator(rescale=1./255)\n",
    "val_datagen = ImageDataGenerator(rescale=1./255)\n"
   ]
  },
  {
   "cell_type": "code",
   "execution_count": 34,
   "id": "85743e49",
   "metadata": {},
   "outputs": [
    {
     "name": "stdout",
     "output_type": "stream",
     "text": [
      "Found 2240 images belonging to 2 classes.\n",
      "Found 280 images belonging to 2 classes.\n",
      "Found 280 images belonging to 2 classes.\n"
     ]
    }
   ],
   "source": [
    "train_generator = train_datagen.flow_from_directory(\n",
    "    train_dir,\n",
    "    target_size=(240, 320),\n",
    "    batch_size=32, \n",
    "    class_mode='binary'\n",
    ")\n",
    "test_generator = test_datagen.flow_from_directory(\n",
    "    test_dir,\n",
    "    target_size=(240, 320),\n",
    "    batch_size=64, \n",
    "    class_mode='binary'\n",
    ")\n",
    "val_generator = val_datagen.flow_from_directory(\n",
    "    val_dir,\n",
    "    target_size=(240, 320),\n",
    "    batch_size=32, \n",
    "    class_mode='binary'\n",
    ")"
   ]
  },
  {
   "cell_type": "code",
   "execution_count": 35,
   "id": "35e68b6e",
   "metadata": {},
   "outputs": [
    {
     "data": {
      "text/plain": [
       "{'nsfw': 0, 'sfw': 1}"
      ]
     },
     "execution_count": 35,
     "metadata": {},
     "output_type": "execute_result"
    }
   ],
   "source": [
    "test_generator.class_indices"
   ]
  },
  {
   "cell_type": "code",
   "execution_count": 14,
   "id": "38e1fc93",
   "metadata": {},
   "outputs": [],
   "source": [
    "from keras.models import Sequential\n",
    "from keras.layers import Conv2D, MaxPooling2D, Flatten, Dense, Dropout\n",
    "\n",
    "# Define the model architecture\n",
    "model = Sequential()\n",
    "model.add(Conv2D(32, (3, 3), activation='relu', input_shape=(240, 320, 3)))\n",
    "model.add(MaxPooling2D((2, 2)))\n",
    "model.add(Conv2D(64, (3, 3), activation='relu'))\n",
    "model.add(MaxPooling2D((2, 2)))\n",
    "model.add(Conv2D(128, (3, 3), activation='relu'))\n",
    "model.add(MaxPooling2D((2, 2)))\n",
    "model.add(Flatten())\n",
    "model.add(Dense(512, activation='relu'))\n",
    "model.add(Dropout(0.5))\n",
    "model.add(Dense(1, activation='sigmoid'))\n",
    "\n"
   ]
  },
  {
   "cell_type": "code",
   "execution_count": 15,
   "id": "408693d3",
   "metadata": {},
   "outputs": [],
   "source": [
    "# Compile the model\n",
    "model.compile(optimizer='adam', loss='binary_crossentropy', metrics=['accuracy'])\n"
   ]
  },
  {
   "cell_type": "code",
   "execution_count": 21,
   "id": "341cf83e",
   "metadata": {},
   "outputs": [
    {
     "name": "stdout",
     "output_type": "stream",
     "text": [
      "Epoch 1/10\n",
      "70/70 [==============================] - 287s 4s/step - loss: 0.9235 - accuracy: 0.6531 - val_loss: 0.4443 - val_accuracy: 0.7964\n",
      "Epoch 2/10\n",
      "70/70 [==============================] - 181s 3s/step - loss: 0.4138 - accuracy: 0.8223 - val_loss: 0.3248 - val_accuracy: 0.8786\n",
      "Epoch 3/10\n",
      "70/70 [==============================] - 171s 2s/step - loss: 0.2797 - accuracy: 0.8911 - val_loss: 0.5780 - val_accuracy: 0.8107\n",
      "Epoch 4/10\n",
      "70/70 [==============================] - 174s 2s/step - loss: 0.2392 - accuracy: 0.9103 - val_loss: 0.2317 - val_accuracy: 0.9179\n",
      "Epoch 5/10\n",
      "70/70 [==============================] - 171s 2s/step - loss: 0.1854 - accuracy: 0.9335 - val_loss: 0.1960 - val_accuracy: 0.9393\n",
      "Epoch 6/10\n",
      "70/70 [==============================] - 180s 3s/step - loss: 0.1309 - accuracy: 0.9540 - val_loss: 0.3142 - val_accuracy: 0.9143\n",
      "Epoch 7/10\n",
      "70/70 [==============================] - 173s 2s/step - loss: 0.1111 - accuracy: 0.9594 - val_loss: 0.2340 - val_accuracy: 0.9214\n",
      "Epoch 8/10\n",
      "70/70 [==============================] - 174s 2s/step - loss: 0.0809 - accuracy: 0.9763 - val_loss: 0.4316 - val_accuracy: 0.8571\n",
      "Epoch 9/10\n",
      "70/70 [==============================] - 174s 2s/step - loss: 0.0738 - accuracy: 0.9737 - val_loss: 0.2737 - val_accuracy: 0.9393\n",
      "Epoch 10/10\n",
      "70/70 [==============================] - 178s 3s/step - loss: 0.0347 - accuracy: 0.9862 - val_loss: 0.2828 - val_accuracy: 0.9286\n"
     ]
    }
   ],
   "source": [
    "# Train the model\n",
    "history = model.fit(train_generator,validation_data=val_generator, epochs=10, verbose=1)\n"
   ]
  },
  {
   "cell_type": "code",
   "execution_count": 23,
   "id": "acb061c8",
   "metadata": {},
   "outputs": [
    {
     "name": "stdout",
     "output_type": "stream",
     "text": [
      "9/9 [==============================] - 5s 483ms/step - loss: 0.2281 - accuracy: 0.9214\n"
     ]
    },
    {
     "data": {
      "text/plain": [
       "[0.22808410227298737, 0.9214285612106323]"
      ]
     },
     "execution_count": 23,
     "metadata": {},
     "output_type": "execute_result"
    }
   ],
   "source": [
    "model.evaluate(test_generator, verbose=1)"
   ]
  },
  {
   "cell_type": "code",
   "execution_count": 24,
   "id": "1fbe59dd",
   "metadata": {},
   "outputs": [],
   "source": [
    "# Save the model in SavedModel format\n",
    "model.save('model.h5')"
   ]
  },
  {
   "cell_type": "code",
   "execution_count": 62,
   "id": "517a512d",
   "metadata": {},
   "outputs": [
    {
     "name": "stdout",
     "output_type": "stream",
     "text": [
      "1/1 [==============================] - 0s 87ms/step\n",
      "0\n",
      "[[0.00055345]]\n"
     ]
    }
   ],
   "source": [
    "import numpy as np\n",
    "from PIL import Image\n",
    "# Load the image and resize it to 240x320\n",
    "image = Image.open(\"C:\\\\Users\\\\subek\\\\Desktop\\\\nsfw model\\\\test_data\\\\nsfw\\\\17F5CKFgE8.jpg\")\n",
    "image = image.resize((320, 240))\n",
    "# Normalize the pixel values by dividing by 255\n",
    "image_array = np.array(image) / 255.0\n",
    "# Make a prediction\n",
    "prediction = model.predict(np.expand_dims(image_array, axis=0))\n",
    "\n",
    "# Print the predicted class\n",
    "print(np.argmax(prediction))\n",
    "print(prediction)\n",
    "\n"
   ]
  },
  {
   "cell_type": "code",
   "execution_count": null,
   "id": "e621c78d",
   "metadata": {},
   "outputs": [],
   "source": []
  },
  {
   "cell_type": "code",
   "execution_count": null,
   "id": "5884be4a",
   "metadata": {},
   "outputs": [],
   "source": []
  }
 ],
 "metadata": {
  "kernelspec": {
   "display_name": "Python 3 (ipykernel)",
   "language": "python",
   "name": "python3"
  },
  "language_info": {
   "codemirror_mode": {
    "name": "ipython",
    "version": 3
   },
   "file_extension": ".py",
   "mimetype": "text/x-python",
   "name": "python",
   "nbconvert_exporter": "python",
   "pygments_lexer": "ipython3",
   "version": "3.9.2rc1"
  }
 },
 "nbformat": 4,
 "nbformat_minor": 5
}
