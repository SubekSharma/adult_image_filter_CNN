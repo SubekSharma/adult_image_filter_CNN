{
 "cells": [
  {
   "cell_type": "code",
   "execution_count": 1,
   "id": "d82af363",
   "metadata": {},
   "outputs": [],
   "source": [
    "import tensorflow as tf\n",
    "import numpy as np\n",
    "from PIL import Image\n"
   ]
  },
  {
   "cell_type": "code",
   "execution_count": 2,
   "id": "2bdaa1e9",
   "metadata": {},
   "outputs": [],
   "source": [
    "# Load the saved model\n",
    "loaded_model = tf.keras.models.load_model(\"model.h5\")\n"
   ]
  },
  {
   "cell_type": "code",
   "execution_count": 6,
   "id": "d6379e41",
   "metadata": {},
   "outputs": [],
   "source": [
    "# Load the image and resize it to 240x320\n",
    "image = Image.open(\"C:\\\\Users\\\\subek\\\\Desktop\\\\3335228_98937b6_600x_.jpg\")\n",
    "image = image.resize((320, 240))\n",
    "# Normalize the pixel values by dividing by 255\n",
    "image_array = np.array(image) / 255.0\n"
   ]
  },
  {
   "cell_type": "code",
   "execution_count": 7,
   "id": "50796681",
   "metadata": {},
   "outputs": [
    {
     "name": "stdout",
     "output_type": "stream",
     "text": [
      "1/1 [==============================] - 0s 266ms/step\n",
      "The image contains 18+ content.\n"
     ]
    }
   ],
   "source": [
    "# Make a prediction\n",
    "prediction = loaded_model.predict(np.expand_dims(image_array, axis=0))\n",
    "if prediction[0]<0.3 :\n",
    "    print('The image contains 18+ content.')\n",
    "else:\n",
    "    print('The image is safe to use.')\n",
    "    "
   ]
  },
  {
   "cell_type": "code",
   "execution_count": null,
   "id": "d53aefff",
   "metadata": {},
   "outputs": [],
   "source": []
  }
 ],
 "metadata": {
  "kernelspec": {
   "display_name": "Python 3 (ipykernel)",
   "language": "python",
   "name": "python3"
  },
  "language_info": {
   "codemirror_mode": {
    "name": "ipython",
    "version": 3
   },
   "file_extension": ".py",
   "mimetype": "text/x-python",
   "name": "python",
   "nbconvert_exporter": "python",
   "pygments_lexer": "ipython3",
   "version": "3.11.3"
  }
 },
 "nbformat": 4,
 "nbformat_minor": 5
}
